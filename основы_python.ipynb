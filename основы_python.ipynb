{
  "cells": [
    {
      "cell_type": "markdown",
      "metadata": {
        "id": "M-DGa20PaHnu"
      },
      "source": [
        "#Задача 1\n",
        "Написать функцию на вход которой подается строка, состоящая из латинских букв.\n",
        "Функция должна вернуть количество гласных букв (a, e, i, o, u) в этой строке. Написать тесты для кода"
      ]
    },
    {
      "cell_type": "code",
      "execution_count": 25,
      "metadata": {
        "id": "XvX8X_JJ6PCb"
      },
      "outputs": [],
      "source": [
        "def count_vowels(s):\n",
        "    vowels = {'a', 'e', 'i', 'o', 'u'}\n",
        "    return sum(1 for char in s.lower() if char in vowels)\n",
        "\n",
        "# Тесты\n",
        "assert count_vowels(\"Hello\") == 2\n",
        "assert count_vowels(\"Python\") == 1\n",
        "assert count_vowels(\"NMDFG\") == 0\n",
        "assert count_vowels(\"\") == 0\n",
        "assert count_vowels(\"APPLES\") == 2"
      ]
    },
    {
      "cell_type": "markdown",
      "metadata": {
        "id": "t2ClV_Y0bbr6"
      },
      "source": [
        "# Задача 2\n",
        "Написать функцию на вход, которой подается строка. Функция должна вернуть true, если\n",
        "каждый символ в строке встречается только 1 раз, иначе должна вернуть false. Написать тесты для кода"
      ]
    },
    {
      "cell_type": "code",
      "execution_count": 26,
      "metadata": {
        "id": "FppbECao6VIz"
      },
      "outputs": [],
      "source": [
        "def all_unique(s):\n",
        "    return len(s) == len(set(s))\n",
        "\n",
        "# Тесты\n",
        "assert all_unique(\"abc\") == True\n",
        "assert all_unique(\"aabc\") == False\n",
        "assert all_unique(\"\") == True\n",
        "assert all_unique(\"Aa\") == True\n",
        "assert all_unique(\"Max11\") == False"
      ]
    },
    {
      "cell_type": "markdown",
      "metadata": {
        "id": "udRiIK1cdt6E"
      },
      "source": [
        "# Задача 3\n",
        "Написать функцию, которая принимает положительное число и возвращает количество\n",
        "бит равных 1 в этом числе. Написать тесты для кода"
      ]
    },
    {
      "cell_type": "code",
      "execution_count": 27,
      "metadata": {
        "id": "6tkfDJRz6dp_"
      },
      "outputs": [],
      "source": [
        "def count_bits(n):\n",
        "    return bin(n).count('1')\n",
        "\n",
        "# Тесты\n",
        "assert count_bits(7) == 3\n",
        "assert count_bits(0) == 0\n",
        "assert count_bits(10) == 2\n",
        "assert count_bits(15) == 4"
      ]
    },
    {
      "cell_type": "markdown",
      "metadata": {
        "id": "26dDUz-Ae17N"
      },
      "source": [
        "# Задача 4\n",
        "Написать функцию, которая принимает положительное число. Функция должна вернуть то,\n",
        "сколько раз необходимо перемножать цифры числа или результат перемножения, чтобы\n",
        "получилось число состоящее из одной цифры.\n",
        "Например, для входного числа:\n",
        "· 39 функция должна вернуть 3, так как 3*9=27 => 2*7=14 => 1*4=4\n",
        "· 4 функция должна вернуть 0, так как число уже состоит из одной цифры\n",
        "· 999 функция должна вернуть 4, так как 9*9*9=729 => 7*2*9=126 => 1*2*6=12 =>\n",
        "1*2=2. Написать тесты для кода"
      ]
    },
    {
      "cell_type": "code",
      "execution_count": 28,
      "metadata": {
        "id": "BH1A_Mgi6i4G"
      },
      "outputs": [],
      "source": [
        "def magic(n):\n",
        "    if n < 10:\n",
        "        return 0\n",
        "    steps = 0\n",
        "    while n >= 10:\n",
        "        prod = 1\n",
        "        for digit in str(n):\n",
        "            prod *= int(digit)\n",
        "        n = prod\n",
        "        steps += 1\n",
        "    return steps\n",
        "\n",
        "# Тесты\n",
        "assert magic(39) == 3\n",
        "assert magic(4) == 0\n",
        "assert magic(999) == 4\n",
        "assert magic(10) == 1"
      ]
    },
    {
      "cell_type": "markdown",
      "metadata": {
        "id": "0nS-kIa8g8vd"
      },
      "source": [
        "# Задача 5\n",
        "Написать функцию, которая принимает два целочисленных вектора одинаковой длины и\n",
        "возвращает среднеквадратическое отклонение двух векторов. Написать тесты для кода"
      ]
    },
    {
      "cell_type": "code",
      "execution_count": 29,
      "metadata": {
        "id": "8iphx4LM6xbx"
      },
      "outputs": [],
      "source": [
        "def mse(pred, true):\n",
        "    if len(pred) != len(true):\n",
        "        raise ValueError(\"Разная длина у векторов\")\n",
        "    return sum((p - t)**2 for p, t in zip(pred, true)) / len(pred)\n",
        "\n",
        "# Тесты\n",
        "assert mse([1, 2], [1, 2]) == 0\n",
        "assert mse([1, 2, 3], [4, 5, 6]) == 9.0"
      ]
    },
    {
      "cell_type": "markdown",
      "metadata": {
        "id": "vpIPKL439zkw"
      },
      "source": [
        "# Задача 6\n",
        "Написать функцию, принимающая целое положительное число. Функция должна вернуть\n",
        "строку вида “(n1**p1)(n2**p2)…(nk**pk)” представляющая разложение числа на простые\n",
        "множители (если pi == 1, то выводить только ni).\n",
        "Например, для числа 86240 функция должна вернуть “(2**5)(5)(7**2)(11)”. Написать тесты для кода"
      ]
    },
    {
      "cell_type": "code",
      "execution_count": 30,
      "metadata": {
        "id": "pFebmcZk94Jw"
      },
      "outputs": [],
      "source": [
        "def prime_factors(n):\n",
        "    fact = []\n",
        "    div = 2\n",
        "    while div * div <= n:\n",
        "        count = 0\n",
        "        while n % div == 0:\n",
        "            count += 1\n",
        "            n //= div\n",
        "        if count > 0:\n",
        "            fact.append((div, count))\n",
        "        div += 1\n",
        "    if n > 1:\n",
        "        fact.append((n, 1))\n",
        "    result = []\n",
        "    for num, power in fact:\n",
        "        if power == 1:\n",
        "            result.append(f\"({num})\")\n",
        "        else:\n",
        "            result.append(f\"({num}**{power})\")\n",
        "    return \"\".join(result)\n",
        "\n",
        "# Тесты\n",
        "assert prime_factors(86240) == \"(2**5)(5)(7**2)(11)\"\n",
        "assert prime_factors(4) == \"(2**2)\"\n",
        "assert prime_factors(13) == \"(13)\"\n",
        "assert prime_factors(169) == \"(13**2)\""
      ]
    },
    {
      "cell_type": "markdown",
      "metadata": {
        "id": "ps2s0BudX7A2"
      },
      "source": [
        "# Задача 7\n",
        "Написать функцию, принимающая целое число n, задающее количество кубиков. Функция\n",
        "должна определить, можно ли из данного кол-ва кубиков построить пирамиду, то есть\n",
        "можно ли представить число n как 1^2+2^2+3^2+…+k^2. Если можно, то функция должна\n",
        "вернуть k, иначе строку “It is impossible”. Написать тесты для кода"
      ]
    },
    {
      "cell_type": "code",
      "execution_count": 31,
      "metadata": {
        "id": "3YPjEXxhX_YT"
      },
      "outputs": [],
      "source": [
        "def pyramid(number):\n",
        "    k = 0\n",
        "    total = 0\n",
        "    while total < number:\n",
        "        k += 1\n",
        "        total += k ** 2\n",
        "        if total == number:\n",
        "            return k\n",
        "    return \"It is impossible\"\n",
        "\n",
        "# Тесты\n",
        "assert pyramid(6) == \"It is impossible\"\n",
        "assert pyramid(1) == 1\n",
        "assert pyramid(14) == 3\n",
        "assert pyramid(30) == 4\n",
        "assert pyramid(12) == \"It is impossible\""
      ]
    },
    {
      "cell_type": "markdown",
      "metadata": {
        "id": "KeKgmIdAQMEJ"
      },
      "source": [
        "# Задача 8\n",
        "Функция принимает на вход положительное число и определяет является ли оно сбалансированным, т.е. сумма цифр до средних равна сумме цифр после. Средними в случае нечетного числа цифр считать одну цифру, в случае четного - две средних. Написать тесты для кода"
      ]
    },
    {
      "cell_type": "code",
      "execution_count": 32,
      "metadata": {
        "id": "gMAAqtqlQrZt"
      },
      "outputs": [],
      "source": [
        "def is_balanced(n):\n",
        "    s = str(n)\n",
        "    length = len(s)\n",
        "    mid = length // 2\n",
        "    if length % 2 == 0:\n",
        "        left = s[:mid-1]\n",
        "        right = s[mid+1:]\n",
        "    else:\n",
        "        left = s[:mid]\n",
        "        right = s[mid+1:]\n",
        "    return sum(map(int, left)) == sum(map(int, right))\n",
        "\n",
        "# Тесты\n",
        "assert is_balanced(12321) == True\n",
        "assert is_balanced(12345) == False\n",
        "assert is_balanced(1111) == True\n",
        "assert is_balanced(111) == True\n",
        "assert is_balanced(1323) == False"
      ]
    }
  ],
  "metadata": {
    "colab": {
      "provenance": []
    },
    "kernelspec": {
      "display_name": "Python 3",
      "name": "python3"
    },
    "language_info": {
      "codemirror_mode": {
        "name": "ipython",
        "version": 3
      },
      "file_extension": ".py",
      "mimetype": "text/x-python",
      "name": "python",
      "nbconvert_exporter": "python",
      "pygments_lexer": "ipython3",
      "version": "3.13.1"
    }
  },
  "nbformat": 4,
  "nbformat_minor": 0
}
