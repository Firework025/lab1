{
  "cells": [
    {
      "cell_type": "markdown",
      "metadata": {
        "id": "vC84e9kzyxPy"
      },
      "source": [
        "<h1>Импорт библиотек"
      ]
    },
    {
      "cell_type": "code",
      "execution_count": 29,
      "metadata": {
        "id": "cgKeNegmQG5S"
      },
      "outputs": [],
      "source": [
        "import numpy as np\n",
        "import matplotlib.pyplot as plt"
      ]
    },
    {
      "cell_type": "markdown",
      "metadata": {
        "id": "qFM9uVU2x4Ls"
      },
      "source": [
        "<h1>Задача 1. Дан набор из $p$ матриц размерностью $(n, n)$ и $p$ векторов размерностью $(n, 1)$, найти сумму произведений матриц на векторы. Написать тесты для кода"
      ]
    },
    {
      "cell_type": "code",
      "execution_count": 30,
      "metadata": {
        "id": "IAbUvEiYyWFF"
      },
      "outputs": [],
      "source": [
        "def sum_prod(X, V):\n",
        "    V = [v.reshape(-1, 1) if v.ndim == 1 else v for v in V]\n",
        "    result = np.zeros_like(X[0] @ V[0])\n",
        "    for mat, vec in zip(X, V):\n",
        "        result += mat @ vec\n",
        "    return result\n",
        "\n",
        "# Тесты\n",
        "def sum_prod_test():\n",
        "    X = [\n",
        "        np.array([[1, 2], [3, 4]]),\n",
        "        np.array([[5, 6], [7, 8]])\n",
        "    ]\n",
        "    V = [\n",
        "        np.array([1, 1]).reshape(-1, 1),\n",
        "        np.array([2, 2]).reshape(-1, 1)\n",
        "    ]\n",
        "    expected = np.array([[25], [37]])\n",
        "    result = sum_prod(X, V)\n",
        "    assert np.allclose(result, expected), f\"Ожидалось {expected}, получено {result}\"\n",
        "\n",
        "sum_prod_test()\n",
        "\n"
      ]
    },
    {
      "cell_type": "markdown",
      "metadata": {
        "id": "TKwPG4fIy2w4"
      },
      "source": [
        "<h1>Задача 2. Дана матрица M, напишите функцию, которая бинаризует матрицу по некоторому threshold (то есть, все значения большие threshold становятся равными 1, иначе 0). Напишите тесты для кода"
      ]
    },
    {
      "cell_type": "code",
      "execution_count": 31,
      "metadata": {
        "id": "KQDNMgsjRNH7"
      },
      "outputs": [],
      "source": [
        "def binarize(M, threshold=0.5):\n",
        "    return (M > threshold).astype(int)\n",
        "\n",
        "# Тесты\n",
        "def binarize_test():\n",
        "    M = np.array([[0.3, 0.6], [0.4, 0.8]])\n",
        "    expected = np.array([[0, 1], [0, 1]])\n",
        "    assert np.array_equal(binarize(M, 0.5), expected)\n",
        "binarize_test()"
      ]
    },
    {
      "cell_type": "markdown",
      "metadata": {
        "id": "IY5L-h-7zWhN"
      },
      "source": [
        "<h1>Задача 3. Напишите функцию, которая возвращает уникальные элементы из каждой строки матрицы. Напишите такую же функцию, но для столбцов. Напишите тесты для кода"
      ]
    },
    {
      "cell_type": "code",
      "execution_count": 32,
      "metadata": {
        "id": "-8dEZhR0SBC-"
      },
      "outputs": [],
      "source": [
        "def unique_rows(mat):\n",
        "    return [np.unique(row) for row in mat]\n",
        "\n",
        "def unique_columns(mat):\n",
        "    return [np.unique(col) for col in mat.T]\n",
        "\n",
        "# Тесты\n",
        "def unique_test():\n",
        "    mat = np.array([[1, 2, 1], [3, 3, 3], [2, 1, 2]])\n",
        "\n",
        "    row_uniques = unique_rows(mat)\n",
        "    assert [len(u) for u in row_uniques] == [2, 1, 2]\n",
        "    \n",
        "    col_uniques = unique_columns(mat)\n",
        "\n",
        "    assert [len(u) for u in col_uniques] == [3, 3, 3]\n",
        "unique_test()\n"
      ]
    },
    {
      "cell_type": "markdown",
      "metadata": {
        "id": "roYAlo4Jz-lH"
      },
      "source": [
        "<h1>Задача 4. Напишите функцию, которая заполняет матрицу с размерами $(m, n)$ случайными числами, распределенными по нормальному закону. Затем считает мат. ожидание и дисперсию для каждого из столбцов и строк, а также строит для каждой строки и столбца гистограмму значений (использовать функцию hist из модуля matplotlib.plot)"
      ]
    },
    {
      "cell_type": "code",
      "execution_count": 33,
      "metadata": {
        "id": "nZK_71hMSQzv"
      },
      "outputs": [],
      "source": [
        "def generate_and_analyze(m, n):\n",
        "    mat = np.random.normal(size=(m, n))\n",
        "\n",
        "    # Статистика\n",
        "    row_means, row_vars = np.mean(mat, axis=1), np.var(mat, axis=1)\n",
        "    col_means, col_vars = np.mean(mat, axis=0), np.var(mat, axis=0)\n",
        "    \n",
        "    # Гистограммы\n",
        "    for i in range(m):\n",
        "        plt.hist(mat[i], alpha=0.5, label=f'Row {i}')\n",
        "    plt.legend()\n",
        "    plt.show()\n",
        "    for j in range(n):\n",
        "        plt.hist(mat[:, j], alpha=0.5, label=f'Column {j}')\n",
        "    plt.legend()\n",
        "    plt.show()\n",
        "    return row_means, row_vars, col_means, col_vars"
      ]
    },
    {
      "cell_type": "markdown",
      "metadata": {
        "id": "BDyATNdM0dJ2"
      },
      "source": [
        "<h1>Задача 5. Напишите функцию, которая заполняет матрицу $(m, n)$ в шахматном порядке заданными числами $a$ и $b$. Напишите тесты для кода"
      ]
    },
    {
      "cell_type": "code",
      "execution_count": 34,
      "metadata": {
        "id": "RWNJYWQGecS6"
      },
      "outputs": [],
      "source": [
        "def chess(m, n, a, b):\n",
        "    indices = np.indices((m, n))\n",
        "    mask = (indices[0] + indices[1]) % 2 == 0\n",
        "    return np.where(mask, a, b)\n",
        "\n",
        "# Тесты\n",
        "def chess_test():\n",
        "    expected = np.array([[1, 0], [0, 1]])\n",
        "    assert np.array_equal(chess(2, 2, 1, 0), expected)\n",
        "chess_test()"
      ]
    },
    {
      "cell_type": "markdown",
      "metadata": {
        "id": "-ymXLtTN0vB6"
      },
      "source": [
        "<h1>Задача 6. Напишите функцию, которая отрисовывает прямоугольник с заданными размерами (a, b) на изображении размера (m, n), цвет фона задайте в схеме RGB, как и цвет прямоугольника. Цвета также должны быть параметрами функции. Напишите аналогичную функцию но для овала с полуосями a и b. Напишите тесты для кода.\n",
        "Примечание: уравнение эллипса (границы овала) можно записать как:\n",
        "<h1>$\\frac{(x-x_0)^2}{a^2}+\\frac{(y-y_0)^2}{b^2}=1$"
      ]
    },
    {
      "cell_type": "code",
      "execution_count": 35,
      "metadata": {
        "id": "sNfl1t_kfOF4"
      },
      "outputs": [
        {
          "name": "stdout",
          "output_type": "stream",
          "text": [
            "Тесты пройдены успешно!\n"
          ]
        }
      ],
      "source": [
        "def draw_rectangle(a, b, m, n, rectangle_color, background_color):\n",
        "\n",
        "    image = np.full((m, n, 3), background_color, dtype=np.uint8)\n",
        "    start_row = (m - a) // 2\n",
        "    start_col = (n - b) // 2\n",
        "    image[start_row:start_row+a, start_col:start_col+b] = rectangle_color\n",
        "    return image\n",
        "\n",
        "def draw_ellipse(a, b, m, n, ellipse_color, background_color):\n",
        "\n",
        "    image = np.full((m, n, 3), background_color, dtype=np.uint8)\n",
        "    rows, cols = np.indices((m, n))\n",
        "    center_y, center_x = m // 2, n // 2\n",
        "    mask = ((cols - center_x)**2 / b**2 + (rows - center_y)**2 / a**2) <= 1\n",
        "    image[mask] = ellipse_color\n",
        "    return image\n",
        "\n",
        "# Тесты\n",
        "def draw_shapes_test():\n",
        "    # Проверка прямоугольника\n",
        "    rect = draw_rectangle(a=2, b=3, m=5, n=5, \n",
        "                          rectangle_color=[255, 0, 0], \n",
        "                          background_color=[0, 0, 0])\n",
        "    assert rect.shape == (5, 5, 3), \"Неверный размер изображения с прямоугольником\"\n",
        "    assert np.array_equal(rect[2, 2], [255, 0, 0]), \"Цвет прямоугольника неверен\"\n",
        "    \n",
        "    # Проверка эллипса\n",
        "    ellipse = draw_ellipse(a=2, b=3, m=7, n=7, \n",
        "                           ellipse_color=[0, 255, 0], \n",
        "                           background_color=[0, 0, 0])\n",
        "    assert ellipse.shape == (7, 7, 3), \"Неверный размер изображения с эллипсом\"\n",
        "    assert np.array_equal(ellipse[3, 3], [0, 255, 0]), \"Цвет эллипса неверен\"\n",
        "    \n",
        "    print(\"Тесты пройдены успешно!\")\n",
        "\n",
        "draw_shapes_test()\n",
        "\n"
      ]
    },
    {
      "cell_type": "markdown",
      "metadata": {
        "id": "S82c38oz244H"
      },
      "source": [
        "<h1>Задача 7. Дан некий временной ряд. Для данного ряда нужно найти его: математическое ожидание, дисперсию, СКО, найти все локальные максимумы и минимумы (локальный максимум - это точка, которая больше своих соседних точек, а локальный минимум - это точка, которая меньше своих соседей), а также вычислить для данного ряда другой ряд, получаемый методом скользящего среднего с размером окна $p$.\n",
        "<h1>Примечание: метод скользящего среднего подразумевает нахождение среднего из подмножетсва ряда размером $p$"
      ]
    },
    {
      "cell_type": "code",
      "execution_count": 36,
      "metadata": {
        "id": "Zb9mIVge5MMt"
      },
      "outputs": [],
      "source": [
        "def analyze_series(series, p):\n",
        "    mean = np.mean(series)\n",
        "    var = np.var(series)\n",
        "    std = np.std(series)\n",
        "    maxima = [i for i in range(1, len(series)-1) if series[i] > series[i-1] and series[i] > series[i+1]]\n",
        "    minima = [i for i in range(1, len(series)-1) if series[i] < series[i-1] and series[i] < series[i+1]]\n",
        "    moving_avg = np.convolve(series, np.ones(p)/p, 'valid')\n",
        "    return mean, var, std, maxima, minima, moving_avg"
      ]
    },
    {
      "cell_type": "markdown",
      "metadata": {
        "id": "jPkylmOX5O9n"
      },
      "source": [
        "<h1> Задача 8. Дан некоторый вектор с целочисленными метками классов, напишите функцию, которая выполняет one-hot-encoding для данного вектора\n",
        "<h1> One-hot-encoding - представление, в котором на месте метки некоторого класса стоит 1, в остальных позициях стоит 0. Например для вектора [0, 2, 3, 0] one-hot-encoding выглядит как: [[1, 0, 0, 0], [0, 0, 1, 0], [0, 0, 0, 1], [1, 0, 0, 0]]"
      ]
    },
    {
      "cell_type": "code",
      "execution_count": 37,
      "metadata": {
        "id": "Y-jlnZvw56lD"
      },
      "outputs": [],
      "source": [
        "def one_hot_encoding(labels):\n",
        "    num_classes = np.max(labels) + 1\n",
        "    return np.eye(num_classes)[labels]\n",
        "\n",
        "# Тесты\n",
        "def one_hot_test():\n",
        "    labels = np.array([0, 2, 3, 0])\n",
        "    expected = np.array([[1,0,0,0], [0,0,1,0], [0,0,0,1], [1,0,0,0]])\n",
        "    assert np.array_equal(one_hot_encoding(labels), expected)\n",
        "one_hot_test()"
      ]
    }
  ],
  "metadata": {
    "colab": {
      "provenance": []
    },
    "kernelspec": {
      "display_name": "Python 3",
      "name": "python3"
    },
    "language_info": {
      "codemirror_mode": {
        "name": "ipython",
        "version": 3
      },
      "file_extension": ".py",
      "mimetype": "text/x-python",
      "name": "python",
      "nbconvert_exporter": "python",
      "pygments_lexer": "ipython3",
      "version": "3.13.1"
    }
  },
  "nbformat": 4,
  "nbformat_minor": 0
}
